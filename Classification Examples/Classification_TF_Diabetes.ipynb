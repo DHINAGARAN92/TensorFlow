{
 "cells": [
  {
   "cell_type": "markdown",
   "metadata": {},
   "source": [
    "# Step 1: Import Pandas to read the data"
   ]
  },
  {
   "cell_type": "code",
   "execution_count": 81,
   "metadata": {},
   "outputs": [],
   "source": [
    "import pandas as pd"
   ]
  },
  {
   "cell_type": "code",
   "execution_count": 82,
   "metadata": {},
   "outputs": [],
   "source": [
    "diabetes = pd.read_csv('pima-indians-diabetes.csv')"
   ]
  },
  {
   "cell_type": "code",
   "execution_count": 83,
   "metadata": {},
   "outputs": [
    {
     "data": {
      "text/html": [
       "<div>\n",
       "<style scoped>\n",
       "    .dataframe tbody tr th:only-of-type {\n",
       "        vertical-align: middle;\n",
       "    }\n",
       "\n",
       "    .dataframe tbody tr th {\n",
       "        vertical-align: top;\n",
       "    }\n",
       "\n",
       "    .dataframe thead th {\n",
       "        text-align: right;\n",
       "    }\n",
       "</style>\n",
       "<table border=\"1\" class=\"dataframe\">\n",
       "  <thead>\n",
       "    <tr style=\"text-align: right;\">\n",
       "      <th></th>\n",
       "      <th>Number_pregnant</th>\n",
       "      <th>Glucose_concentration</th>\n",
       "      <th>Blood_pressure</th>\n",
       "      <th>Triceps</th>\n",
       "      <th>Insulin</th>\n",
       "      <th>BMI</th>\n",
       "      <th>Pedigree</th>\n",
       "      <th>Age</th>\n",
       "      <th>Class</th>\n",
       "      <th>Group</th>\n",
       "    </tr>\n",
       "  </thead>\n",
       "  <tbody>\n",
       "    <tr>\n",
       "      <th>0</th>\n",
       "      <td>6</td>\n",
       "      <td>0.743719</td>\n",
       "      <td>0.590164</td>\n",
       "      <td>0.353535</td>\n",
       "      <td>0.000000</td>\n",
       "      <td>0.500745</td>\n",
       "      <td>0.234415</td>\n",
       "      <td>50</td>\n",
       "      <td>1</td>\n",
       "      <td>B</td>\n",
       "    </tr>\n",
       "    <tr>\n",
       "      <th>1</th>\n",
       "      <td>1</td>\n",
       "      <td>0.427136</td>\n",
       "      <td>0.540984</td>\n",
       "      <td>0.292929</td>\n",
       "      <td>0.000000</td>\n",
       "      <td>0.396423</td>\n",
       "      <td>0.116567</td>\n",
       "      <td>31</td>\n",
       "      <td>0</td>\n",
       "      <td>C</td>\n",
       "    </tr>\n",
       "    <tr>\n",
       "      <th>2</th>\n",
       "      <td>8</td>\n",
       "      <td>0.919598</td>\n",
       "      <td>0.524590</td>\n",
       "      <td>0.000000</td>\n",
       "      <td>0.000000</td>\n",
       "      <td>0.347243</td>\n",
       "      <td>0.253629</td>\n",
       "      <td>32</td>\n",
       "      <td>1</td>\n",
       "      <td>B</td>\n",
       "    </tr>\n",
       "    <tr>\n",
       "      <th>3</th>\n",
       "      <td>1</td>\n",
       "      <td>0.447236</td>\n",
       "      <td>0.540984</td>\n",
       "      <td>0.232323</td>\n",
       "      <td>0.111111</td>\n",
       "      <td>0.418778</td>\n",
       "      <td>0.038002</td>\n",
       "      <td>21</td>\n",
       "      <td>0</td>\n",
       "      <td>B</td>\n",
       "    </tr>\n",
       "    <tr>\n",
       "      <th>4</th>\n",
       "      <td>0</td>\n",
       "      <td>0.688442</td>\n",
       "      <td>0.327869</td>\n",
       "      <td>0.353535</td>\n",
       "      <td>0.198582</td>\n",
       "      <td>0.642325</td>\n",
       "      <td>0.943638</td>\n",
       "      <td>33</td>\n",
       "      <td>1</td>\n",
       "      <td>C</td>\n",
       "    </tr>\n",
       "  </tbody>\n",
       "</table>\n",
       "</div>"
      ],
      "text/plain": [
       "   Number_pregnant  Glucose_concentration  Blood_pressure   Triceps   Insulin  \\\n",
       "0                6               0.743719        0.590164  0.353535  0.000000   \n",
       "1                1               0.427136        0.540984  0.292929  0.000000   \n",
       "2                8               0.919598        0.524590  0.000000  0.000000   \n",
       "3                1               0.447236        0.540984  0.232323  0.111111   \n",
       "4                0               0.688442        0.327869  0.353535  0.198582   \n",
       "\n",
       "        BMI  Pedigree  Age  Class Group  \n",
       "0  0.500745  0.234415   50      1     B  \n",
       "1  0.396423  0.116567   31      0     C  \n",
       "2  0.347243  0.253629   32      1     B  \n",
       "3  0.418778  0.038002   21      0     B  \n",
       "4  0.642325  0.943638   33      1     C  "
      ]
     },
     "execution_count": 83,
     "metadata": {},
     "output_type": "execute_result"
    }
   ],
   "source": [
    "diabetes.head()"
   ]
  },
  {
   "cell_type": "code",
   "execution_count": 84,
   "metadata": {},
   "outputs": [
    {
     "data": {
      "text/plain": [
       "Index(['Number_pregnant', 'Glucose_concentration', 'Blood_pressure', 'Triceps',\n",
       "       'Insulin', 'BMI', 'Pedigree', 'Age', 'Class', 'Group'],\n",
       "      dtype='object')"
      ]
     },
     "execution_count": 84,
     "metadata": {},
     "output_type": "execute_result"
    }
   ],
   "source": [
    "diabetes.columns"
   ]
  },
  {
   "cell_type": "markdown",
   "metadata": {},
   "source": [
    "### Normalise the columns"
   ]
  },
  {
   "cell_type": "code",
   "execution_count": 85,
   "metadata": {},
   "outputs": [],
   "source": [
    "cols_to_norm = ['Number_pregnant', 'Glucose_concentration', 'Blood_pressure', 'Triceps',\n",
    "       'Insulin', 'BMI', 'Pedigree']"
   ]
  },
  {
   "cell_type": "code",
   "execution_count": 86,
   "metadata": {},
   "outputs": [],
   "source": [
    "# Class column not normalising because thats what need to predict"
   ]
  },
  {
   "cell_type": "code",
   "execution_count": 87,
   "metadata": {},
   "outputs": [],
   "source": [
    "# Use Pandas to normalise"
   ]
  },
  {
   "cell_type": "code",
   "execution_count": 88,
   "metadata": {},
   "outputs": [],
   "source": [
    "diabetes[cols_to_norm] = diabetes[cols_to_norm].apply(lambda x:(x-x.min())\n",
    "                                                      / (x.max()-x.min())  )  "
   ]
  },
  {
   "cell_type": "code",
   "execution_count": 89,
   "metadata": {},
   "outputs": [
    {
     "data": {
      "text/html": [
       "<div>\n",
       "<style scoped>\n",
       "    .dataframe tbody tr th:only-of-type {\n",
       "        vertical-align: middle;\n",
       "    }\n",
       "\n",
       "    .dataframe tbody tr th {\n",
       "        vertical-align: top;\n",
       "    }\n",
       "\n",
       "    .dataframe thead th {\n",
       "        text-align: right;\n",
       "    }\n",
       "</style>\n",
       "<table border=\"1\" class=\"dataframe\">\n",
       "  <thead>\n",
       "    <tr style=\"text-align: right;\">\n",
       "      <th></th>\n",
       "      <th>Number_pregnant</th>\n",
       "      <th>Glucose_concentration</th>\n",
       "      <th>Blood_pressure</th>\n",
       "      <th>Triceps</th>\n",
       "      <th>Insulin</th>\n",
       "      <th>BMI</th>\n",
       "      <th>Pedigree</th>\n",
       "      <th>Age</th>\n",
       "      <th>Class</th>\n",
       "      <th>Group</th>\n",
       "    </tr>\n",
       "  </thead>\n",
       "  <tbody>\n",
       "    <tr>\n",
       "      <th>0</th>\n",
       "      <td>0.352941</td>\n",
       "      <td>0.743719</td>\n",
       "      <td>0.590164</td>\n",
       "      <td>0.353535</td>\n",
       "      <td>0.000000</td>\n",
       "      <td>0.500745</td>\n",
       "      <td>0.234415</td>\n",
       "      <td>50</td>\n",
       "      <td>1</td>\n",
       "      <td>B</td>\n",
       "    </tr>\n",
       "    <tr>\n",
       "      <th>1</th>\n",
       "      <td>0.058824</td>\n",
       "      <td>0.427136</td>\n",
       "      <td>0.540984</td>\n",
       "      <td>0.292929</td>\n",
       "      <td>0.000000</td>\n",
       "      <td>0.396423</td>\n",
       "      <td>0.116567</td>\n",
       "      <td>31</td>\n",
       "      <td>0</td>\n",
       "      <td>C</td>\n",
       "    </tr>\n",
       "    <tr>\n",
       "      <th>2</th>\n",
       "      <td>0.470588</td>\n",
       "      <td>0.919598</td>\n",
       "      <td>0.524590</td>\n",
       "      <td>0.000000</td>\n",
       "      <td>0.000000</td>\n",
       "      <td>0.347243</td>\n",
       "      <td>0.253629</td>\n",
       "      <td>32</td>\n",
       "      <td>1</td>\n",
       "      <td>B</td>\n",
       "    </tr>\n",
       "    <tr>\n",
       "      <th>3</th>\n",
       "      <td>0.058824</td>\n",
       "      <td>0.447236</td>\n",
       "      <td>0.540984</td>\n",
       "      <td>0.232323</td>\n",
       "      <td>0.111111</td>\n",
       "      <td>0.418778</td>\n",
       "      <td>0.038002</td>\n",
       "      <td>21</td>\n",
       "      <td>0</td>\n",
       "      <td>B</td>\n",
       "    </tr>\n",
       "    <tr>\n",
       "      <th>4</th>\n",
       "      <td>0.000000</td>\n",
       "      <td>0.688442</td>\n",
       "      <td>0.327869</td>\n",
       "      <td>0.353535</td>\n",
       "      <td>0.198582</td>\n",
       "      <td>0.642325</td>\n",
       "      <td>0.943638</td>\n",
       "      <td>33</td>\n",
       "      <td>1</td>\n",
       "      <td>C</td>\n",
       "    </tr>\n",
       "  </tbody>\n",
       "</table>\n",
       "</div>"
      ],
      "text/plain": [
       "   Number_pregnant  Glucose_concentration  Blood_pressure   Triceps   Insulin  \\\n",
       "0         0.352941               0.743719        0.590164  0.353535  0.000000   \n",
       "1         0.058824               0.427136        0.540984  0.292929  0.000000   \n",
       "2         0.470588               0.919598        0.524590  0.000000  0.000000   \n",
       "3         0.058824               0.447236        0.540984  0.232323  0.111111   \n",
       "4         0.000000               0.688442        0.327869  0.353535  0.198582   \n",
       "\n",
       "        BMI  Pedigree  Age  Class Group  \n",
       "0  0.500745  0.234415   50      1     B  \n",
       "1  0.396423  0.116567   31      0     C  \n",
       "2  0.347243  0.253629   32      1     B  \n",
       "3  0.418778  0.038002   21      0     B  \n",
       "4  0.642325  0.943638   33      1     C  "
      ]
     },
     "execution_count": 89,
     "metadata": {},
     "output_type": "execute_result"
    }
   ],
   "source": [
    "diabetes.head()"
   ]
  },
  {
   "cell_type": "markdown",
   "metadata": {},
   "source": [
    "# Step 2 : Import Tensorflow and Create Feature Columns with API Estimator"
   ]
  },
  {
   "cell_type": "code",
   "execution_count": 90,
   "metadata": {},
   "outputs": [],
   "source": [
    "import tensorflow as tf"
   ]
  },
  {
   "cell_type": "code",
   "execution_count": 91,
   "metadata": {},
   "outputs": [
    {
     "data": {
      "text/plain": [
       "Index(['Number_pregnant', 'Glucose_concentration', 'Blood_pressure', 'Triceps',\n",
       "       'Insulin', 'BMI', 'Pedigree', 'Age', 'Class', 'Group'],\n",
       "      dtype='object')"
      ]
     },
     "execution_count": 91,
     "metadata": {},
     "output_type": "execute_result"
    }
   ],
   "source": [
    "diabetes.columns"
   ]
  },
  {
   "cell_type": "code",
   "execution_count": 92,
   "metadata": {},
   "outputs": [],
   "source": [
    "# create feature columns"
   ]
  },
  {
   "cell_type": "code",
   "execution_count": 93,
   "metadata": {},
   "outputs": [],
   "source": [
    "# numeric columns are continous values\n",
    "num_preg = tf.feature_column.numeric_column('Number_pregnant')\n",
    "plasma_gluc = tf.feature_column.numeric_column('Glucose_concentration')\n",
    "dias_press = tf.feature_column.numeric_column('Blood_pressure')\n",
    "tricep = tf.feature_column.numeric_column('Triceps')\n",
    "insulin = tf.feature_column.numeric_column('Insulin')\n",
    "bmi = tf.feature_column.numeric_column('BMI')\n",
    "diabetes_pedigree = tf.feature_column.numeric_column('Pedigree')\n",
    "age = tf.feature_column.numeric_column('Age')"
   ]
  },
  {
   "cell_type": "code",
   "execution_count": 94,
   "metadata": {},
   "outputs": [],
   "source": [
    "assigned_group = tf.feature_column.categorical_column_with_vocabulary_list('Group',['A','B','C','D'])\n",
    "# Here in the above case only 4 group so we can go for vocab list , if you dont have defined group\n",
    "# Alternative(Hashbucket)\n",
    "# assigned_group = tf.feature_column.categorical_column_with_hash_bucket('Group', hash_bucket_size=10"
   ]
  },
  {
   "cell_type": "code",
   "execution_count": 95,
   "metadata": {},
   "outputs": [],
   "source": [
    "# How to convert continue to categorical value (age)"
   ]
  },
  {
   "cell_type": "code",
   "execution_count": 96,
   "metadata": {},
   "outputs": [],
   "source": [
    "#import matplotlib.pyplot as plt\n",
    "#%matplotlib inline"
   ]
  },
  {
   "cell_type": "code",
   "execution_count": 97,
   "metadata": {},
   "outputs": [],
   "source": [
    "#diabetes['Age'].hist(bins=30)"
   ]
  },
  {
   "cell_type": "code",
   "execution_count": 98,
   "metadata": {},
   "outputs": [],
   "source": [
    "# convert age from numeric to categorical column\n",
    "age_bucket = tf.feature_column.bucketized_column(age,boundaries=[20,30,40,50,60,70])"
   ]
  },
  {
   "cell_type": "code",
   "execution_count": 99,
   "metadata": {},
   "outputs": [],
   "source": [
    "# Create Feature Columns"
   ]
  },
  {
   "cell_type": "code",
   "execution_count": 100,
   "metadata": {},
   "outputs": [],
   "source": [
    "feat_cols = [num_preg,\n",
    "             plasma_gluc,\n",
    "             dias_press,\n",
    "             tricep,\n",
    "             insulin,\n",
    "             bmi,\n",
    "             diabetes_pedigree,\n",
    "             age_bucket]"
   ]
  },
  {
   "cell_type": "markdown",
   "metadata": {},
   "source": [
    "# Step 2: Perfrom Train Test Split"
   ]
  },
  {
   "cell_type": "code",
   "execution_count": 101,
   "metadata": {},
   "outputs": [],
   "source": [
    "from sklearn.model_selection import train_test_split"
   ]
  },
  {
   "cell_type": "code",
   "execution_count": 102,
   "metadata": {},
   "outputs": [],
   "source": [
    "x_data = diabetes.drop('Class',axis = 1)\n",
    "# becasue class is what we need to find"
   ]
  },
  {
   "cell_type": "code",
   "execution_count": 103,
   "metadata": {},
   "outputs": [
    {
     "data": {
      "text/html": [
       "<div>\n",
       "<style scoped>\n",
       "    .dataframe tbody tr th:only-of-type {\n",
       "        vertical-align: middle;\n",
       "    }\n",
       "\n",
       "    .dataframe tbody tr th {\n",
       "        vertical-align: top;\n",
       "    }\n",
       "\n",
       "    .dataframe thead th {\n",
       "        text-align: right;\n",
       "    }\n",
       "</style>\n",
       "<table border=\"1\" class=\"dataframe\">\n",
       "  <thead>\n",
       "    <tr style=\"text-align: right;\">\n",
       "      <th></th>\n",
       "      <th>Number_pregnant</th>\n",
       "      <th>Glucose_concentration</th>\n",
       "      <th>Blood_pressure</th>\n",
       "      <th>Triceps</th>\n",
       "      <th>Insulin</th>\n",
       "      <th>BMI</th>\n",
       "      <th>Pedigree</th>\n",
       "      <th>Age</th>\n",
       "      <th>Group</th>\n",
       "    </tr>\n",
       "  </thead>\n",
       "  <tbody>\n",
       "    <tr>\n",
       "      <th>0</th>\n",
       "      <td>0.352941</td>\n",
       "      <td>0.743719</td>\n",
       "      <td>0.590164</td>\n",
       "      <td>0.353535</td>\n",
       "      <td>0.000000</td>\n",
       "      <td>0.500745</td>\n",
       "      <td>0.234415</td>\n",
       "      <td>50</td>\n",
       "      <td>B</td>\n",
       "    </tr>\n",
       "    <tr>\n",
       "      <th>1</th>\n",
       "      <td>0.058824</td>\n",
       "      <td>0.427136</td>\n",
       "      <td>0.540984</td>\n",
       "      <td>0.292929</td>\n",
       "      <td>0.000000</td>\n",
       "      <td>0.396423</td>\n",
       "      <td>0.116567</td>\n",
       "      <td>31</td>\n",
       "      <td>C</td>\n",
       "    </tr>\n",
       "    <tr>\n",
       "      <th>2</th>\n",
       "      <td>0.470588</td>\n",
       "      <td>0.919598</td>\n",
       "      <td>0.524590</td>\n",
       "      <td>0.000000</td>\n",
       "      <td>0.000000</td>\n",
       "      <td>0.347243</td>\n",
       "      <td>0.253629</td>\n",
       "      <td>32</td>\n",
       "      <td>B</td>\n",
       "    </tr>\n",
       "    <tr>\n",
       "      <th>3</th>\n",
       "      <td>0.058824</td>\n",
       "      <td>0.447236</td>\n",
       "      <td>0.540984</td>\n",
       "      <td>0.232323</td>\n",
       "      <td>0.111111</td>\n",
       "      <td>0.418778</td>\n",
       "      <td>0.038002</td>\n",
       "      <td>21</td>\n",
       "      <td>B</td>\n",
       "    </tr>\n",
       "    <tr>\n",
       "      <th>4</th>\n",
       "      <td>0.000000</td>\n",
       "      <td>0.688442</td>\n",
       "      <td>0.327869</td>\n",
       "      <td>0.353535</td>\n",
       "      <td>0.198582</td>\n",
       "      <td>0.642325</td>\n",
       "      <td>0.943638</td>\n",
       "      <td>33</td>\n",
       "      <td>C</td>\n",
       "    </tr>\n",
       "  </tbody>\n",
       "</table>\n",
       "</div>"
      ],
      "text/plain": [
       "   Number_pregnant  Glucose_concentration  Blood_pressure   Triceps   Insulin  \\\n",
       "0         0.352941               0.743719        0.590164  0.353535  0.000000   \n",
       "1         0.058824               0.427136        0.540984  0.292929  0.000000   \n",
       "2         0.470588               0.919598        0.524590  0.000000  0.000000   \n",
       "3         0.058824               0.447236        0.540984  0.232323  0.111111   \n",
       "4         0.000000               0.688442        0.327869  0.353535  0.198582   \n",
       "\n",
       "        BMI  Pedigree  Age Group  \n",
       "0  0.500745  0.234415   50     B  \n",
       "1  0.396423  0.116567   31     C  \n",
       "2  0.347243  0.253629   32     B  \n",
       "3  0.418778  0.038002   21     B  \n",
       "4  0.642325  0.943638   33     C  "
      ]
     },
     "execution_count": 103,
     "metadata": {},
     "output_type": "execute_result"
    }
   ],
   "source": [
    "x_data.head()"
   ]
  },
  {
   "cell_type": "code",
   "execution_count": 104,
   "metadata": {},
   "outputs": [],
   "source": [
    "y = diabetes['Class']"
   ]
  },
  {
   "cell_type": "code",
   "execution_count": 105,
   "metadata": {},
   "outputs": [],
   "source": [
    "X_train, X_test, y_train, y_test = train_test_split(x_data, y, test_size=0.33, random_state=101)"
   ]
  },
  {
   "cell_type": "markdown",
   "metadata": {},
   "source": [
    "# Step 4: Create Input Function"
   ]
  },
  {
   "cell_type": "code",
   "execution_count": 106,
   "metadata": {},
   "outputs": [],
   "source": [
    "input_func = tf.estimator.inputs.pandas_input_fn(x=X_train,\n",
    "                                                y=y_train,\n",
    "                                                batch_size=10,\n",
    "                                                num_epochs=1000,\n",
    "                                                shuffle=True)"
   ]
  },
  {
   "cell_type": "markdown",
   "metadata": {},
   "source": [
    "# Step 5: Create Model - Linear"
   ]
  },
  {
   "cell_type": "code",
   "execution_count": 107,
   "metadata": {},
   "outputs": [
    {
     "name": "stdout",
     "output_type": "stream",
     "text": [
      "INFO:tensorflow:Using default config.\n",
      "WARNING:tensorflow:Using temporary folder as model directory: C:\\Users\\DHINAG~1.A\\AppData\\Local\\Temp\\tmpe91mye52\n",
      "INFO:tensorflow:Using config: {'_model_dir': 'C:\\\\Users\\\\DHINAG~1.A\\\\AppData\\\\Local\\\\Temp\\\\tmpe91mye52', '_tf_random_seed': None, '_save_summary_steps': 100, '_save_checkpoints_steps': None, '_save_checkpoints_secs': 600, '_session_config': allow_soft_placement: true\n",
      "graph_options {\n",
      "  rewrite_options {\n",
      "    meta_optimizer_iterations: ONE\n",
      "  }\n",
      "}\n",
      ", '_keep_checkpoint_max': 5, '_keep_checkpoint_every_n_hours': 10000, '_log_step_count_steps': 100, '_train_distribute': None, '_device_fn': None, '_protocol': None, '_eval_distribute': None, '_experimental_distribute': None, '_service': None, '_cluster_spec': <tensorflow.python.training.server_lib.ClusterSpec object at 0x0000020954DABD30>, '_task_type': 'worker', '_task_id': 0, '_global_id_in_cluster': 0, '_master': '', '_evaluation_master': '', '_is_chief': True, '_num_ps_replicas': 0, '_num_worker_replicas': 1}\n"
     ]
    }
   ],
   "source": [
    "model = tf.estimator.LinearClassifier(feature_columns=feat_cols,n_classes=2)"
   ]
  },
  {
   "cell_type": "markdown",
   "metadata": {},
   "source": [
    "# Step 6: Train the model"
   ]
  },
  {
   "cell_type": "code",
   "execution_count": 108,
   "metadata": {},
   "outputs": [
    {
     "name": "stdout",
     "output_type": "stream",
     "text": [
      "INFO:tensorflow:Calling model_fn.\n",
      "INFO:tensorflow:Done calling model_fn.\n",
      "INFO:tensorflow:Create CheckpointSaverHook.\n",
      "INFO:tensorflow:Graph was finalized.\n",
      "INFO:tensorflow:Running local_init_op.\n",
      "INFO:tensorflow:Done running local_init_op.\n",
      "INFO:tensorflow:Saving checkpoints for 0 into C:\\Users\\DHINAG~1.A\\AppData\\Local\\Temp\\tmpe91mye52\\model.ckpt.\n",
      "INFO:tensorflow:loss = 6.931472, step = 1\n",
      "INFO:tensorflow:global_step/sec: 213.3\n",
      "INFO:tensorflow:loss = 5.206046, step = 101 (0.481 sec)\n",
      "INFO:tensorflow:global_step/sec: 462.617\n",
      "INFO:tensorflow:loss = 5.8133173, step = 201 (0.215 sec)\n",
      "INFO:tensorflow:global_step/sec: 464.007\n",
      "INFO:tensorflow:loss = 5.514282, step = 301 (0.221 sec)\n",
      "INFO:tensorflow:global_step/sec: 432.231\n",
      "INFO:tensorflow:loss = 3.6432333, step = 401 (0.224 sec)\n",
      "INFO:tensorflow:global_step/sec: 498.833\n",
      "INFO:tensorflow:loss = 5.037243, step = 501 (0.205 sec)\n",
      "INFO:tensorflow:global_step/sec: 430.961\n",
      "INFO:tensorflow:loss = 5.407897, step = 601 (0.225 sec)\n",
      "INFO:tensorflow:global_step/sec: 451.328\n",
      "INFO:tensorflow:loss = 4.4092245, step = 701 (0.216 sec)\n",
      "INFO:tensorflow:global_step/sec: 462.874\n",
      "INFO:tensorflow:loss = 6.397761, step = 801 (0.225 sec)\n",
      "INFO:tensorflow:global_step/sec: 432.383\n",
      "INFO:tensorflow:loss = 6.2198014, step = 901 (0.233 sec)\n",
      "INFO:tensorflow:Saving checkpoints for 1000 into C:\\Users\\DHINAG~1.A\\AppData\\Local\\Temp\\tmpe91mye52\\model.ckpt.\n",
      "INFO:tensorflow:Loss for final step: 4.5027885.\n"
     ]
    },
    {
     "data": {
      "text/plain": [
       "<tensorflow_estimator.python.estimator.canned.linear.LinearClassifier at 0x20954dab550>"
      ]
     },
     "execution_count": 108,
     "metadata": {},
     "output_type": "execute_result"
    }
   ],
   "source": [
    "model.train(input_fn=input_func,steps=1000)"
   ]
  },
  {
   "cell_type": "markdown",
   "metadata": {},
   "source": [
    "# Step 7 : Evaluate the model"
   ]
  },
  {
   "cell_type": "code",
   "execution_count": 109,
   "metadata": {},
   "outputs": [],
   "source": [
    "eval_input_func = tf.estimator.inputs.pandas_input_fn(x=X_test,\n",
    "                                                     y=y_test,\n",
    "                                                     batch_size=10,\n",
    "                                                     num_epochs=1,\n",
    "                                                      shuffle=False)"
   ]
  },
  {
   "cell_type": "code",
   "execution_count": 110,
   "metadata": {},
   "outputs": [
    {
     "name": "stdout",
     "output_type": "stream",
     "text": [
      "INFO:tensorflow:Calling model_fn.\n",
      "WARNING:tensorflow:Trapezoidal rule is known to produce incorrect PR-AUCs; please switch to \"careful_interpolation\" instead.\n",
      "WARNING:tensorflow:Trapezoidal rule is known to produce incorrect PR-AUCs; please switch to \"careful_interpolation\" instead.\n",
      "INFO:tensorflow:Done calling model_fn.\n",
      "INFO:tensorflow:Starting evaluation at 2019-11-30T20:46:04Z\n",
      "INFO:tensorflow:Graph was finalized.\n",
      "INFO:tensorflow:Restoring parameters from C:\\Users\\DHINAG~1.A\\AppData\\Local\\Temp\\tmpe91mye52\\model.ckpt-1000\n",
      "INFO:tensorflow:Running local_init_op.\n",
      "INFO:tensorflow:Done running local_init_op.\n",
      "INFO:tensorflow:Finished evaluation at 2019-11-30-20:46:05\n",
      "INFO:tensorflow:Saving dict for global step 1000: accuracy = 0.72440946, accuracy_baseline = 0.65748036, auc = 0.7853259, auc_precision_recall = 0.6341324, average_loss = 0.5347419, global_step = 1000, label/mean = 0.34251967, loss = 5.2240167, precision = 0.60493827, prediction/mean = 0.37247145, recall = 0.5632184\n",
      "INFO:tensorflow:Saving 'checkpoint_path' summary for global step 1000: C:\\Users\\DHINAG~1.A\\AppData\\Local\\Temp\\tmpe91mye52\\model.ckpt-1000\n"
     ]
    }
   ],
   "source": [
    "results = model.evaluate(eval_input_func)"
   ]
  },
  {
   "cell_type": "markdown",
   "metadata": {},
   "source": [
    "#### accuracy = 0.7401575, accuracy_baseline = 0.66141737, auc = 0.7687223"
   ]
  },
  {
   "cell_type": "markdown",
   "metadata": {},
   "source": [
    "# Step 8: Predict the model & get predictions"
   ]
  },
  {
   "cell_type": "code",
   "execution_count": 111,
   "metadata": {},
   "outputs": [],
   "source": [
    "pred_input_func = tf.estimator.inputs.pandas_input_fn(x=X_test,\n",
    "                                                     batch_size=10,\n",
    "                                                     num_epochs=1,\n",
    "                                                     shuffle=False)"
   ]
  },
  {
   "cell_type": "code",
   "execution_count": 112,
   "metadata": {},
   "outputs": [],
   "source": [
    "predictions = model.predict(pred_input_func)"
   ]
  },
  {
   "cell_type": "code",
   "execution_count": 113,
   "metadata": {},
   "outputs": [
    {
     "name": "stdout",
     "output_type": "stream",
     "text": [
      "INFO:tensorflow:Calling model_fn.\n",
      "INFO:tensorflow:Done calling model_fn.\n",
      "INFO:tensorflow:Graph was finalized.\n",
      "INFO:tensorflow:Restoring parameters from C:\\Users\\DHINAG~1.A\\AppData\\Local\\Temp\\tmpe91mye52\\model.ckpt-1000\n",
      "INFO:tensorflow:Running local_init_op.\n",
      "INFO:tensorflow:Done running local_init_op.\n"
     ]
    }
   ],
   "source": [
    "my_pred =list(predictions)"
   ]
  },
  {
   "cell_type": "markdown",
   "metadata": {},
   "source": [
    "# Repeat Step 5 : Create the model\n",
    "### Dense Neural Network Model -----> for DNN\n"
   ]
  },
  {
   "cell_type": "code",
   "execution_count": 114,
   "metadata": {},
   "outputs": [
    {
     "name": "stdout",
     "output_type": "stream",
     "text": [
      "INFO:tensorflow:Using default config.\n",
      "WARNING:tensorflow:Using temporary folder as model directory: C:\\Users\\DHINAG~1.A\\AppData\\Local\\Temp\\tmpzqwm7sp7\n",
      "INFO:tensorflow:Using config: {'_model_dir': 'C:\\\\Users\\\\DHINAG~1.A\\\\AppData\\\\Local\\\\Temp\\\\tmpzqwm7sp7', '_tf_random_seed': None, '_save_summary_steps': 100, '_save_checkpoints_steps': None, '_save_checkpoints_secs': 600, '_session_config': allow_soft_placement: true\n",
      "graph_options {\n",
      "  rewrite_options {\n",
      "    meta_optimizer_iterations: ONE\n",
      "  }\n",
      "}\n",
      ", '_keep_checkpoint_max': 5, '_keep_checkpoint_every_n_hours': 10000, '_log_step_count_steps': 100, '_train_distribute': None, '_device_fn': None, '_protocol': None, '_eval_distribute': None, '_experimental_distribute': None, '_service': None, '_cluster_spec': <tensorflow.python.training.server_lib.ClusterSpec object at 0x000002094E278048>, '_task_type': 'worker', '_task_id': 0, '_global_id_in_cluster': 0, '_master': '', '_evaluation_master': '', '_is_chief': True, '_num_ps_replicas': 0, '_num_worker_replicas': 1}\n"
     ]
    }
   ],
   "source": [
    "dnn_model = tf.estimator.DNNClassifier(hidden_units=[10,10,10],feature_columns=feat_cols)\n",
    "# Hiddedn Units is number of neurons ,3 layers with 10 neurons"
   ]
  },
  {
   "cell_type": "markdown",
   "metadata": {},
   "source": [
    "# Step 6 : Train the Model ----> Repeat for DNN"
   ]
  },
  {
   "cell_type": "code",
   "execution_count": 115,
   "metadata": {},
   "outputs": [
    {
     "name": "stdout",
     "output_type": "stream",
     "text": [
      "INFO:tensorflow:Calling model_fn.\n",
      "INFO:tensorflow:Done calling model_fn.\n",
      "INFO:tensorflow:Create CheckpointSaverHook.\n",
      "INFO:tensorflow:Graph was finalized.\n",
      "INFO:tensorflow:Running local_init_op.\n",
      "INFO:tensorflow:Done running local_init_op.\n",
      "INFO:tensorflow:Saving checkpoints for 0 into C:\\Users\\DHINAG~1.A\\AppData\\Local\\Temp\\tmpzqwm7sp7\\model.ckpt.\n",
      "INFO:tensorflow:loss = 7.062519, step = 1\n",
      "INFO:tensorflow:global_step/sec: 183.015\n",
      "INFO:tensorflow:loss = 6.3886137, step = 101 (0.551 sec)\n",
      "INFO:tensorflow:global_step/sec: 382.53\n",
      "INFO:tensorflow:loss = 5.500318, step = 201 (0.260 sec)\n",
      "INFO:tensorflow:global_step/sec: 415.662\n",
      "INFO:tensorflow:loss = 4.0120683, step = 301 (0.247 sec)\n",
      "INFO:tensorflow:global_step/sec: 463.524\n",
      "INFO:tensorflow:loss = 1.9753537, step = 401 (0.223 sec)\n",
      "INFO:tensorflow:global_step/sec: 376.104\n",
      "INFO:tensorflow:loss = 4.159457, step = 501 (0.251 sec)\n",
      "INFO:tensorflow:global_step/sec: 437.772\n",
      "INFO:tensorflow:loss = 3.362772, step = 601 (0.231 sec)\n",
      "INFO:tensorflow:global_step/sec: 420.876\n",
      "INFO:tensorflow:loss = 4.8453746, step = 701 (0.231 sec)\n",
      "INFO:tensorflow:global_step/sec: 463.385\n",
      "INFO:tensorflow:loss = 6.2587156, step = 801 (0.216 sec)\n",
      "INFO:tensorflow:global_step/sec: 450.557\n",
      "INFO:tensorflow:loss = 4.2238293, step = 901 (0.222 sec)\n",
      "INFO:tensorflow:Saving checkpoints for 1000 into C:\\Users\\DHINAG~1.A\\AppData\\Local\\Temp\\tmpzqwm7sp7\\model.ckpt.\n",
      "INFO:tensorflow:Loss for final step: 4.6095433.\n"
     ]
    },
    {
     "data": {
      "text/plain": [
       "<tensorflow_estimator.python.estimator.canned.dnn.DNNClassifier at 0x2094e2789b0>"
      ]
     },
     "execution_count": 115,
     "metadata": {},
     "output_type": "execute_result"
    }
   ],
   "source": [
    "dnn_model.train(input_fn=input_func,steps=1000)"
   ]
  },
  {
   "cell_type": "code",
   "execution_count": 116,
   "metadata": {},
   "outputs": [],
   "source": [
    "input_func = tf.estimator.inputs.pandas_input_fn(x=X_train,\n",
    "                                                y=y_train,batch_size=10,\n",
    "                                                num_epochs=1000,shuffle=True)"
   ]
  },
  {
   "cell_type": "code",
   "execution_count": 117,
   "metadata": {},
   "outputs": [],
   "source": [
    "# Train the Model "
   ]
  },
  {
   "cell_type": "code",
   "execution_count": 118,
   "metadata": {},
   "outputs": [
    {
     "name": "stdout",
     "output_type": "stream",
     "text": [
      "INFO:tensorflow:Using default config.\n",
      "WARNING:tensorflow:Using temporary folder as model directory: C:\\Users\\DHINAG~1.A\\AppData\\Local\\Temp\\tmp34um3ad_\n",
      "INFO:tensorflow:Using config: {'_model_dir': 'C:\\\\Users\\\\DHINAG~1.A\\\\AppData\\\\Local\\\\Temp\\\\tmp34um3ad_', '_tf_random_seed': None, '_save_summary_steps': 100, '_save_checkpoints_steps': None, '_save_checkpoints_secs': 600, '_session_config': allow_soft_placement: true\n",
      "graph_options {\n",
      "  rewrite_options {\n",
      "    meta_optimizer_iterations: ONE\n",
      "  }\n",
      "}\n",
      ", '_keep_checkpoint_max': 5, '_keep_checkpoint_every_n_hours': 10000, '_log_step_count_steps': 100, '_train_distribute': None, '_device_fn': None, '_protocol': None, '_eval_distribute': None, '_experimental_distribute': None, '_service': None, '_cluster_spec': <tensorflow.python.training.server_lib.ClusterSpec object at 0x0000020951E088D0>, '_task_type': 'worker', '_task_id': 0, '_global_id_in_cluster': 0, '_master': '', '_evaluation_master': '', '_is_chief': True, '_num_ps_replicas': 0, '_num_worker_replicas': 1}\n"
     ]
    }
   ],
   "source": [
    "dnn_model =tf.estimator.DNNClassifier(hidden_units=[10,20,20,10,10],feature_columns=feat_cols,\n",
    "                                      n_classes=2)"
   ]
  },
  {
   "cell_type": "code",
   "execution_count": 119,
   "metadata": {},
   "outputs": [],
   "source": [
    "# Train the model"
   ]
  },
  {
   "cell_type": "code",
   "execution_count": 120,
   "metadata": {},
   "outputs": [
    {
     "name": "stdout",
     "output_type": "stream",
     "text": [
      "INFO:tensorflow:Calling model_fn.\n",
      "INFO:tensorflow:Done calling model_fn.\n",
      "INFO:tensorflow:Create CheckpointSaverHook.\n",
      "INFO:tensorflow:Graph was finalized.\n",
      "INFO:tensorflow:Running local_init_op.\n",
      "INFO:tensorflow:Done running local_init_op.\n",
      "INFO:tensorflow:Saving checkpoints for 0 into C:\\Users\\DHINAG~1.A\\AppData\\Local\\Temp\\tmp34um3ad_\\model.ckpt.\n",
      "INFO:tensorflow:loss = 6.942944, step = 1\n",
      "INFO:tensorflow:global_step/sec: 240.762\n",
      "INFO:tensorflow:loss = 3.672792, step = 101 (0.434 sec)\n",
      "INFO:tensorflow:global_step/sec: 449.454\n",
      "INFO:tensorflow:loss = 4.7693872, step = 201 (0.217 sec)\n",
      "INFO:tensorflow:global_step/sec: 431.976\n",
      "INFO:tensorflow:loss = 4.5583835, step = 301 (0.229 sec)\n",
      "INFO:tensorflow:global_step/sec: 463.897\n",
      "INFO:tensorflow:loss = 6.1392975, step = 401 (0.220 sec)\n",
      "INFO:tensorflow:global_step/sec: 434.025\n",
      "INFO:tensorflow:loss = 5.4618397, step = 501 (0.234 sec)\n",
      "INFO:tensorflow:global_step/sec: 361.142\n",
      "INFO:tensorflow:loss = 4.0032225, step = 601 (0.262 sec)\n",
      "INFO:tensorflow:global_step/sec: 450.44\n",
      "INFO:tensorflow:loss = 3.8245862, step = 701 (0.232 sec)\n",
      "INFO:tensorflow:global_step/sec: 446.544\n",
      "INFO:tensorflow:loss = 3.452548, step = 801 (0.228 sec)\n",
      "INFO:tensorflow:global_step/sec: 404.77\n",
      "INFO:tensorflow:loss = 6.048914, step = 901 (0.235 sec)\n",
      "INFO:tensorflow:Saving checkpoints for 1000 into C:\\Users\\DHINAG~1.A\\AppData\\Local\\Temp\\tmp34um3ad_\\model.ckpt.\n",
      "INFO:tensorflow:Loss for final step: 4.010274.\n"
     ]
    },
    {
     "data": {
      "text/plain": [
       "<tensorflow_estimator.python.estimator.canned.dnn.DNNClassifier at 0x20951f0bb38>"
      ]
     },
     "execution_count": 120,
     "metadata": {},
     "output_type": "execute_result"
    }
   ],
   "source": [
    "dnn_model.train(input_fn=input_func,steps=1000)"
   ]
  },
  {
   "cell_type": "markdown",
   "metadata": {},
   "source": [
    "# Step 7 : Evaluate Input Function ---> Repeat"
   ]
  },
  {
   "cell_type": "code",
   "execution_count": 121,
   "metadata": {},
   "outputs": [],
   "source": [
    "eval_input_func = tf.estimator.inputs.pandas_input_fn(x=X_test,\n",
    "                                                     y=y_test,\n",
    "                                                     batch_size=10,\n",
    "                                                     num_epochs=1,\n",
    "                                                      shuffle=False)"
   ]
  },
  {
   "cell_type": "code",
   "execution_count": 122,
   "metadata": {},
   "outputs": [
    {
     "name": "stdout",
     "output_type": "stream",
     "text": [
      "INFO:tensorflow:Calling model_fn.\n",
      "WARNING:tensorflow:Trapezoidal rule is known to produce incorrect PR-AUCs; please switch to \"careful_interpolation\" instead.\n",
      "WARNING:tensorflow:Trapezoidal rule is known to produce incorrect PR-AUCs; please switch to \"careful_interpolation\" instead.\n",
      "INFO:tensorflow:Done calling model_fn.\n",
      "INFO:tensorflow:Starting evaluation at 2019-11-30T20:46:29Z\n",
      "INFO:tensorflow:Graph was finalized.\n",
      "INFO:tensorflow:Restoring parameters from C:\\Users\\DHINAG~1.A\\AppData\\Local\\Temp\\tmp34um3ad_\\model.ckpt-1000\n",
      "INFO:tensorflow:Running local_init_op.\n",
      "INFO:tensorflow:Done running local_init_op.\n",
      "INFO:tensorflow:Finished evaluation at 2019-11-30-20:46:30\n",
      "INFO:tensorflow:Saving dict for global step 1000: accuracy = 0.72440946, accuracy_baseline = 0.65748036, auc = 0.83137167, auc_precision_recall = 0.72632325, average_loss = 0.50367177, global_step = 1000, label/mean = 0.34251967, loss = 4.920486, precision = 0.5726496, prediction/mean = 0.4280158, recall = 0.77011496\n",
      "INFO:tensorflow:Saving 'checkpoint_path' summary for global step 1000: C:\\Users\\DHINAG~1.A\\AppData\\Local\\Temp\\tmp34um3ad_\\model.ckpt-1000\n"
     ]
    },
    {
     "data": {
      "text/plain": [
       "{'accuracy': 0.72440946,\n",
       " 'accuracy_baseline': 0.65748036,\n",
       " 'auc': 0.83137167,\n",
       " 'auc_precision_recall': 0.72632325,\n",
       " 'average_loss': 0.50367177,\n",
       " 'label/mean': 0.34251967,\n",
       " 'loss': 4.920486,\n",
       " 'precision': 0.5726496,\n",
       " 'prediction/mean': 0.4280158,\n",
       " 'recall': 0.77011496,\n",
       " 'global_step': 1000}"
      ]
     },
     "execution_count": 122,
     "metadata": {},
     "output_type": "execute_result"
    }
   ],
   "source": [
    "dnn_model.evaluate(eval_input_func)"
   ]
  },
  {
   "cell_type": "code",
   "execution_count": 123,
   "metadata": {},
   "outputs": [],
   "source": [
    "# in DNN we are getting 82%\n",
    "# Just increase the nuerons and run again\n",
    "# not realy better looks like data set reached the limit max 82 % accuracy "
   ]
  },
  {
   "cell_type": "code",
   "execution_count": null,
   "metadata": {},
   "outputs": [],
   "source": []
  }
 ],
 "metadata": {
  "kernelspec": {
   "display_name": "Python 3",
   "language": "python",
   "name": "python3"
  },
  "language_info": {
   "codemirror_mode": {
    "name": "ipython",
    "version": 3
   },
   "file_extension": ".py",
   "mimetype": "text/x-python",
   "name": "python",
   "nbconvert_exporter": "python",
   "pygments_lexer": "ipython3",
   "version": "3.7.3"
  }
 },
 "nbformat": 4,
 "nbformat_minor": 2
}
